{
 "cells": [
  {
   "cell_type": "code",
   "execution_count": 1,
   "metadata": {},
   "outputs": [],
   "source": [
    "from scipy.io import loadmat\n",
    "import sys\n",
    "\n",
    "sys.path.append(\"../tools4physicell/\")\n",
    "from modules.multicellds import MultiCellDS"
   ]
  },
  {
   "cell_type": "code",
   "execution_count": 3,
   "metadata": {},
   "outputs": [],
   "source": [
    "output = \"output/\"\n",
    "\n",
    "mcds = MultiCellDS(output_folder=output)\n",
    "\n"
   ]
  },
  {
   "cell_type": "code",
   "execution_count": 18,
   "metadata": {},
   "outputs": [
    {
     "name": "stdout",
     "output_type": "stream",
     "text": [
      "0.0\n",
      "0.0\n",
      "0.0\n",
      "0.0\n",
      "0.0\n",
      "0.0\n",
      "0.0\n"
     ]
    },
    {
     "data": {
      "text/plain": [
       "Index(['x_position', 'y_position', 'x_position', 'total_volume', 'cell_type',\n",
       "       'cycle_model', 'current_phase', 'elapsed_time_in_phase',\n",
       "       'nuclear_volume', 'cytoplasmic_volume', 'fluid_fraction',\n",
       "       'calcified_fraction', 'x_orientation', 'y_orientation', 'x_orientation',\n",
       "       'polarity', 'migration_speed', 'x_motility_vector', 'y_motility_vector',\n",
       "       'x_motility_vector', 'migration_bias', 'x_motility_bias_direction',\n",
       "       'y_motility_bias_direction', 'x_motility_bias_direction',\n",
       "       'persistence_time', 'motility_reserved', 'unbound external TNFR',\n",
       "       'bound external TNFR', 'unbound internal TNFR', 'bound internal TNFR',\n",
       "       'TNFR binding rate', 'TNFR endocytosis rate', 'TNFR recycling rate',\n",
       "       'TNFR activation threshold', 'NFkB activated',\n",
       "       'TFN net production rate', 'next_physibossa_run', 'tnf_concentration',\n",
       "       'tnf_node', 'fadd_node'],\n",
       "      dtype='object')"
      ]
     },
     "execution_count": 18,
     "metadata": {},
     "output_type": "execute_result"
    }
   ],
   "source": [
    "for t,df in mcds.cells_as_frames_iterator():\n",
    "    print(df['bound external TNFR'].max())\n",
    "\n",
    "df.columns"
   ]
  },
  {
   "cell_type": "code",
   "execution_count": 16,
   "metadata": {},
   "outputs": [
    {
     "data": {
      "text/plain": [
       "array([157.54293353, 157.54286072, 157.54270168, ..., 157.54291519,\n",
       "       157.54301041, 157.54305381])"
      ]
     },
     "execution_count": 16,
     "metadata": {},
     "output_type": "execute_result"
    }
   ],
   "source": [
    "microenv = loadmat(\"output/output00000000_microenvironment0.mat\")[\"multiscale_microenvironment\"]\n",
    "microenv[5,:]"
   ]
  }
 ],
 "metadata": {
  "kernelspec": {
   "display_name": "Python 3",
   "language": "python",
   "name": "python3"
  },
  "language_info": {
   "codemirror_mode": {
    "name": "ipython",
    "version": 3
   },
   "file_extension": ".py",
   "mimetype": "text/x-python",
   "name": "python",
   "nbconvert_exporter": "python",
   "pygments_lexer": "ipython3",
   "version": "3.7.6"
  }
 },
 "nbformat": 4,
 "nbformat_minor": 4
}
