{
 "cells": [
  {
   "cell_type": "code",
   "execution_count": 2,
   "metadata": {},
   "outputs": [],
   "source": [
    "from pyMCDS import pyMCDS\n",
    "import numpy as np\n",
    "import matplotlib.pyplot as plt"
   ]
  },
  {
   "cell_type": "code",
   "execution_count": 45,
   "metadata": {},
   "outputs": [
    {
     "name": "stdout",
     "output_type": "stream",
     "text": [
      "Reading /home/marco/PhysiBoSSa/output/output00000110.xml\n",
      "Reading /home/marco/PhysiBoSSa/output/initial_mesh0.mat\n",
      "Reading /home/marco/PhysiBoSSa/output/output00000110_microenvironment0.mat\n",
      "Parsing oxygen data\n",
      "Parsing ecm data\n",
      "Reading /home/marco/PhysiBoSSa/output/output00000110_cells_physicell.mat\n"
     ]
    }
   ],
   "source": [
    "i=110\n",
    "mcds = pyMCDS('output00000%s.xml' %(i), '/home/marco/PhysiBoSSa/output/')"
   ]
  },
  {
   "cell_type": "code",
   "execution_count": 46,
   "metadata": {},
   "outputs": [],
   "source": [
    "#print(mcds.get_cell_variables())\n",
    "cell_df = mcds.get_cell_df()"
   ]
  },
  {
   "cell_type": "code",
   "execution_count": 47,
   "metadata": {},
   "outputs": [
    {
     "name": "stdout",
     "output_type": "stream",
     "text": [
      "Total cells number: 1571\n",
      "Percentage of Cell_cell node active: 59.38892425206874 %\n"
     ]
    }
   ],
   "source": [
    "counter = 0\n",
    "for index, row in cell_df.iterrows():\n",
    "    if (row[\"Cell_cell\"] == 1):\n",
    "        counter = counter + 1\n",
    "#print(counter)\n",
    "print(\"Total cells number:\", len(cell_df))\n",
    "num_cells=len(cell_df)\n",
    "percentage = counter/num_cells * 100\n",
    "print(\"Percentage of Cell_cell node active:\", percentage, \"%\") "
   ]
  },
  {
   "cell_type": "code",
   "execution_count": null,
   "metadata": {},
   "outputs": [],
   "source": []
  }
 ],
 "metadata": {
  "kernelspec": {
   "display_name": "Python 3",
   "language": "python",
   "name": "python3"
  },
  "language_info": {
   "codemirror_mode": {
    "name": "ipython",
    "version": 3
   },
   "file_extension": ".py",
   "mimetype": "text/x-python",
   "name": "python",
   "nbconvert_exporter": "python",
   "pygments_lexer": "ipython3",
   "version": "3.7.5"
  }
 },
 "nbformat": 4,
 "nbformat_minor": 4
}
